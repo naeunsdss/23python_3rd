{
  "nbformat": 4,
  "nbformat_minor": 0,
  "metadata": {
    "colab": {
      "provenance": [],
      "authorship_tag": "ABX9TyNkbpbZ8QhjfRaK/8RnXHeI",
      "include_colab_link": true
    },
    "kernelspec": {
      "name": "python3",
      "display_name": "Python 3"
    },
    "language_info": {
      "name": "python"
    }
  },
  "cells": [
    {
      "cell_type": "markdown",
      "metadata": {
        "id": "view-in-github",
        "colab_type": "text"
      },
      "source": [
        "<a href=\"https://colab.research.google.com/github/naeunsdss/23python_3rd/blob/main/calendar.ipynb\" target=\"_parent\"><img src=\"https://colab.research.google.com/assets/colab-badge.svg\" alt=\"Open In Colab\"/></a>"
      ]
    },
    {
      "cell_type": "code",
      "source": [
        "import calendar\n",
        "yy = 2023\n",
        "mm = 10\n",
        "print(calendar.month(yy,mm))"
      ],
      "metadata": {
        "colab": {
          "base_uri": "https://localhost:8080/"
        },
        "id": "eXlhCXtxZTiL",
        "outputId": "76c76222-0acf-439e-f27f-238762af9506"
      },
      "execution_count": null,
      "outputs": [
        {
          "output_type": "stream",
          "name": "stdout",
          "text": [
            "    October 2023\n",
            "Mo Tu We Th Fr Sa Su\n",
            "                   1\n",
            " 2  3  4  5  6  7  8\n",
            " 9 10 11 12 13 14 15\n",
            "16 17 18 19 20 21 22\n",
            "23 24 25 26 27 28 29\n",
            "30 31\n",
            "\n"
          ]
        }
      ]
    },
    {
      "cell_type": "markdown",
      "source": [
        "2023년 10월 19일 to do list\n",
        "- 11:00~ 12:00 아동건강교육 수면습관 발표\n",
        "- 12:10~ 13:00 집가기\n",
        "- 13:10~ 13:30 방청소 및 점심식사\n",
        "- 14:00~ 17:00 월요일 시험 공부하기\n",
        "- 17:10~ 18:00 휴식\n",
        "- 18:00~ 19:00 저녁식사\n"
      ],
      "metadata": {
        "id": "txOxOVsVa_AK"
      }
    },
    {
      "cell_type": "code",
      "source": [
        "print (\"2023년 10월 19일 to do list\")\n",
        "print (\"11:00~ 12:00 아동건강교육 \")\n",
        "print (\"12:10~ 13:00 집가기\")\n",
        "print (\"13:10~ 13:30 방청소 및 점심식사\")\n",
        "print (\"14:00~ 17:00 월요일 시험 공부하기\")\n",
        "print (\"17:10~ 18:00 휴식\")\n",
        "print (\"18:00~ 19:00 저녁식사\")"
      ],
      "metadata": {
        "colab": {
          "base_uri": "https://localhost:8080/"
        },
        "id": "Iml_B3aiiYM0",
        "outputId": "716bd1ae-78c4-46f9-b98e-e17b7eb1d8f4"
      },
      "execution_count": 3,
      "outputs": [
        {
          "output_type": "stream",
          "name": "stdout",
          "text": [
            "2023년 10월 19일 to do list\n",
            "11:00~ 12:00 아동건강교육 \n",
            "12:10~ 13:00 집가기\n",
            "13:10~ 13:30 방청소 및 점심식사\n",
            "14:00~ 17:00 월요일 시험 공부하기\n",
            "17:10~ 18:00 휴식\n",
            "18:00~ 19:00 저녁식사\n"
          ]
        }
      ]
    }
  ]
}