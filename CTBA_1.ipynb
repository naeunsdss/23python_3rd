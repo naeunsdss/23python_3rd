{
  "nbformat": 4,
  "nbformat_minor": 0,
  "metadata": {
    "colab": {
      "provenance": [],
      "authorship_tag": "ABX9TyP3LsaWG35FD0kCHqnrUqM/",
      "include_colab_link": true
    },
    "kernelspec": {
      "name": "python3",
      "display_name": "Python 3"
    },
    "language_info": {
      "name": "python"
    }
  },
  "cells": [
    {
      "cell_type": "markdown",
      "metadata": {
        "id": "view-in-github",
        "colab_type": "text"
      },
      "source": [
        "<a href=\"https://colab.research.google.com/github/naeunsdss/23python_3rd/blob/main/CTBA_1.ipynb\" target=\"_parent\"><img src=\"https://colab.research.google.com/assets/colab-badge.svg\" alt=\"Open In Colab\"/></a>"
      ]
    },
    {
      "cell_type": "markdown",
      "source": [
        "1. 쇼핑몰 배송물을 계산하는 코드작성\n",
        "- 사용하는 변수: price, shipping_cost"
      ],
      "metadata": {
        "id": "LMjp0rCTceEz"
      }
    },
    {
      "cell_type": "code",
      "source": [
        "print(\"상품의 가격을 입력하시오.\"):\n",
        "price = int(input(\"구입금액 입력: \")):\n",
        "if price > 20000:\n",
        " shipping_cost = 0\n",
        " print(f'구입금액이 2만원 이상입니다.')\n",
        " else:\n",
        "  shipping_cost = 3000\n",
        "  print(f'구입금액이 20만원 이하입니다. ')\n",
        " print(f'회원님의 배송비는{shipping_cost}원 입니다. ')"
      ],
      "metadata": {
        "colab": {
          "base_uri": "https://localhost:8080/",
          "height": 146
        },
        "id": "OeJQQja2g8p7",
        "outputId": "8537a60f-4265-40fb-b7ad-eca76d6a8344"
      },
      "execution_count": 7,
      "outputs": [
        {
          "output_type": "error",
          "ename": "SyntaxError",
          "evalue": "ignored",
          "traceback": [
            "\u001b[0;36m  File \u001b[0;32m\"<ipython-input-7-fa4a67b720c9>\"\u001b[0;36m, line \u001b[0;32m1\u001b[0m\n\u001b[0;31m    print(\"상품의 가격을 입력하시오.\"):\u001b[0m\n\u001b[0m                           ^\u001b[0m\n\u001b[0;31mSyntaxError\u001b[0m\u001b[0;31m:\u001b[0m invalid syntax\n"
          ]
        }
      ]
    },
    {
      "cell_type": "markdown",
      "source": [],
      "metadata": {
        "id": "ZuzbW9yLg14S"
      }
    },
    {
      "cell_type": "markdown",
      "source": [
        "2. 학생으로 성적을 입력받아 합격유무를 출력하는 코드\n",
        "사용변수:grade\n"
      ],
      "metadata": {
        "id": "LmMubCtUg36T"
      }
    },
    {
      "cell_type": "code",
      "source": [
        "print(\"성적을 입력하시오. \")\n",
        "grade = int(input(\"성적입력: \"))\n",
        "if grade >=70:\n",
        "   print(f'70점 이상이므로 합격입니다. ')\n",
        "   print(\"축하합니다. 합격입니다. \")\n",
        "else:\n",
        "   print(f'70점 이하이므로 불합격입니다. ')\n",
        "   print(\"아쉽군요. 다시한번 도전하세요. \")"
      ],
      "metadata": {
        "colab": {
          "base_uri": "https://localhost:8080/"
        },
        "id": "AfhidPXPhHd5",
        "outputId": "e051257a-bde5-4a71-d1c2-e48d30a1f69a"
      },
      "execution_count": 8,
      "outputs": [
        {
          "output_type": "stream",
          "name": "stdout",
          "text": [
            "성적을 입력하시오. \n",
            "성적입력: 71\n",
            "70점 이상이므로 합격입니다. \n",
            "축하합니다. 합격입니다. \n"
          ]
        }
      ]
    },
    {
      "cell_type": "markdown",
      "source": [
        "3.근무시간에 따라 초과근무와 정상근무를 판별하는 코드\n",
        "-work_hour\n",
        "-코드 work_hour > 72"
      ],
      "metadata": {
        "id": "fK4UihtJh61L"
      }
    },
    {
      "cell_type": "code",
      "source": [
        "print(\"근무시간을 입력하십시오. \")\n",
        "work_hour = int(input(\"근무시간입력: \"))\n",
        "if work_hour>= 72:\n",
        "   print(\"♥\"*66 )\n",
        "   print(f'72시간 이상이므로 초과근무입니다.')\n",
        "   print(\"72시간 이하이므로 정상근무입니다. \")\n",
        "else:\n",
        "  print(f'근무시간을 초과하였습니다. ')\n",
        "  print(f\"정상근무시간 입니다. \")"
      ],
      "metadata": {
        "colab": {
          "base_uri": "https://localhost:8080/"
        },
        "id": "TqKFri0sidbs",
        "outputId": "8172e7de-294b-4e8c-fee6-4ab3258f9937"
      },
      "execution_count": 16,
      "outputs": [
        {
          "output_type": "stream",
          "name": "stdout",
          "text": [
            "근무시간을 입력하십시오. \n",
            "근무시간입력: 99\n",
            "♥♥♥♥♥♥♥♥♥♥♥♥♥♥♥♥♥♥♥♥♥♥♥♥♥♥♥♥♥♥♥♥♥♥♥♥♥♥♥♥♥♥♥♥♥♥♥♥♥♥♥♥♥♥♥♥♥♥♥♥♥♥♥♥♥♥\n",
            "72시간 이상이므로 초과근무입니다.\n",
            "72시간 이하이므로 정상근무입니다. \n"
          ]
        }
      ]
    },
    {
      "cell_type": "markdown",
      "source": [
        "4.짝수와 홀수를 판별하는 코드\n",
        "-사용하는 변수:_num_\n",
        "-수식 : (x % 2) != 0:"
      ],
      "metadata": {
        "id": "es6M2B6zl1vL"
      }
    },
    {
      "cell_type": "code",
      "source": [
        "print(\"정수를 입력하시오. \")\n",
        "_num_ = int(input(\"정수 입력: \"))\n",
        "if (_num_ % 2) != 0:\n",
        "  print(f'입력하신 {_num_}은 홀수입니다. ')\n",
        "else:\n",
        "  print(f'입력하신 {_num_}은 짝수입니다. ')\n"
      ],
      "metadata": {
        "colab": {
          "base_uri": "https://localhost:8080/"
        },
        "id": "OPa3lfckmAdb",
        "outputId": "192f4fa5-46be-4356-8644-9438d04639f8"
      },
      "execution_count": 19,
      "outputs": [
        {
          "output_type": "stream",
          "name": "stdout",
          "text": [
            "정수를 입력하시오. \n",
            "정수 입력: 4768578\n",
            "입력하신 4768578은 짝수입니다. \n"
          ]
        }
      ]
    },
    {
      "cell_type": "markdown",
      "source": [
        "5. 사용자의 이름과 나이를 물어보고, 답변하는 코드\n",
        "-사용변수: age name\n",
        "-출력할 내용:\n",
        "-성명\n",
        "-나이:20\n",
        "-(1) 20살 이하: 프로그래밍을 배우는 최적의 나이입니다.\n",
        "_(2) 20살 이상:아직도 늦지 않았습니다."
      ],
      "metadata": {
        "id": "czo5l9w2nVMs"
      }
    },
    {
      "cell_type": "code",
      "source": [
        "print(\"이름과 나이를 입력하시오. \")\n",
        "name = input(\"이름입력: \")\n",
        "age = int(input(\"나이입력: \"))\n",
        "if age <20:\n",
        "  print(f'프로그램을 배우는 나이입니다. ')\n",
        "else:\n",
        "  print(f'아직도 늦지 않았습니다.')\n",
        "\n"
      ],
      "metadata": {
        "colab": {
          "base_uri": "https://localhost:8080/"
        },
        "id": "wcP5R4qln5CM",
        "outputId": "546a3a04-b8d8-43f2-8ac9-30d3ccadf959"
      },
      "execution_count": 20,
      "outputs": [
        {
          "output_type": "stream",
          "name": "stdout",
          "text": [
            "이름과 나이를 입력하시오. \n",
            "이름입력: 천나은\n",
            "나이입력: 21\n",
            "아직도 늦지 않았습니다.\n"
          ]
        }
      ]
    }
  ]
}