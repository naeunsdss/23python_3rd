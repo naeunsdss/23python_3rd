{
  "nbformat": 4,
  "nbformat_minor": 0,
  "metadata": {
    "colab": {
      "provenance": [],
      "authorship_tag": "ABX9TyM1pnfpUSzZnjxlv+mOUzTq",
      "include_colab_link": true
    },
    "kernelspec": {
      "name": "python3",
      "display_name": "Python 3"
    },
    "language_info": {
      "name": "python"
    }
  },
  "cells": [
    {
      "cell_type": "markdown",
      "metadata": {
        "id": "view-in-github",
        "colab_type": "text"
      },
      "source": [
        "<a href=\"https://colab.research.google.com/github/naeunsdss/23python_3rd/blob/main/Untitled1.ipynb\" target=\"_parent\"><img src=\"https://colab.research.google.com/assets/colab-badge.svg\" alt=\"Open In Colab\"/></a>"
      ]
    },
    {
      "cell_type": "markdown",
      "source": [
        "1. 사용자로부터 2개의 정수를 받아서 합계를 출력\n",
        "print \"정수 2개를 입력하시오\"\n",
        "input x, y\n",
        "sum <- x + y\n",
        "print sum"
      ],
      "metadata": {
        "id": "QfNll5_St89K"
      }
    },
    {
      "cell_type": "code",
      "source": [
        "print(\"정수 2개를 입력하시오. \")\n",
        "x = int (input (\"x의 값을 입력하시오.: \"))\n",
        "y = int (input (\"y의 값을 입력하시오.: \"))\n",
        "sum = x = y\n",
        "print (\"x + y의 합계는\" , sum, \"입니다. \")"
      ],
      "metadata": {
        "colab": {
          "base_uri": "https://localhost:8080/"
        },
        "id": "24BS2f9muTDm",
        "outputId": "69c97574-b9ba-4c13-9dbc-ed3efa8f0cc7"
      },
      "execution_count": 1,
      "outputs": [
        {
          "output_type": "stream",
          "name": "stdout",
          "text": [
            "정수 2개를 입력하시오. \n",
            "x의 값을 입력하시오.: 78\n",
            "y의 값을 입력하시오.: 1\n",
            "x + y의 합계는 1 입니다. \n"
          ]
        }
      ]
    },
    {
      "cell_type": "markdown",
      "source": [
        "2. 부가세 계산\n",
        "print \"상품의 가격을 입력하시오\"\n",
        "input price\n",
        "vat<- price * 0.1\n",
        "print vat"
      ],
      "metadata": {
        "id": "QhYPlflGvDcW"
      }
    },
    {
      "cell_type": "code",
      "source": [
        "print(\"상품의 가격을 입력하시오. \")\n",
        "price = int(input(\"가격을 입력하시오.: \"))\n",
        "vat = price * 0.1\n",
        "print(\"해당상품의 가격은\" , vat, \"입니다.\")\n"
      ],
      "metadata": {
        "colab": {
          "base_uri": "https://localhost:8080/"
        },
        "id": "V_9o_ZUBvZll",
        "outputId": "3dfe2994-6cf8-46d0-9b32-162f32795397"
      },
      "execution_count": 2,
      "outputs": [
        {
          "output_type": "stream",
          "name": "stdout",
          "text": [
            "상품의 가격을 입력하시오. \n",
            "가격을 입력하시오.: 6000\n",
            "해당상품의 가격은 600.0 입니다.\n"
          ]
        }
      ]
    }
  ]
}