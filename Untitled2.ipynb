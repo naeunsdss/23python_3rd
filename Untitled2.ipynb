{
  "nbformat": 4,
  "nbformat_minor": 0,
  "metadata": {
    "colab": {
      "provenance": [],
      "authorship_tag": "ABX9TyPlYCvoSiSYXuGvLUYdYzZT",
      "include_colab_link": true
    },
    "kernelspec": {
      "name": "python3",
      "display_name": "Python 3"
    },
    "language_info": {
      "name": "python"
    }
  },
  "cells": [
    {
      "cell_type": "markdown",
      "metadata": {
        "id": "view-in-github",
        "colab_type": "text"
      },
      "source": [
        "<a href=\"https://colab.research.google.com/github/naeunsdss/23python_3rd/blob/main/Untitled2.ipynb\" target=\"_parent\"><img src=\"https://colab.research.google.com/assets/colab-badge.svg\" alt=\"Open In Colab\"/></a>"
      ]
    },
    {
      "cell_type": "markdown",
      "source": [
        "print(\"상품의 가격을 입력하시오.\")\n",
        "price = int(input(\"구입금액 입력: \"))  # 사용자로부터 구입금액을 입력받아 정수로 변환하여 price 변수에 저장합니다.\n",
        "\n",
        "if price > 20000:  # 만약 구입금액이 2만원 이상이라면\n",
        "    shipping_cost = 0  # 배송비는 0원으로 설정합니다.\n",
        "    print(\"구입금액이 2만원 이상입니다.\")\n",
        "else:  # 그렇지 않고 구입금액이 2만원 이하라면\n",
        "    shipping_cost = 3000  # 배송비는 3000원으로 설정합니다.\n",
        "    print(\"구입금액이 2만원 이하입니다.\")\n",
        "\n",
        "print(f\"회원님의 배송비는 {shipping_cost}원 입니다.\")  # 배송비를 출력합니다.\n",
        "이 코드는 사용자로부터 구입금액을 입력받고, 입력된 구입금액에 따라 배송비를 계산하여 출력합니다. 구입금액이 2만원 이상인 경우 배송비는 0원이고, 2만원 이하인 경우 배송비는 3000원입니다. 마지막으로 배송비를 출력합니다. 코드를 실행하면 구입금액과 배송비에 대한 안내 메시지가 출력될 것입니다."
      ],
      "metadata": {
        "id": "oNhxAXb60FSq"
      }
    },
    {
      "cell_type": "code",
      "source": [
        "print(\"상품의 가격을 입력하시오.\")\n",
        "price = int(input(\"구입금액 입력: \"))  # 사용자로부터 구입금액을 입력받아 정수로 변환하여 price 변수에 저장합니다.\n",
        "\n",
        "if price > 20000:  # 만약 구입금액이 2만원 이상이라면\n",
        "    shipping_cost = 0  # 배송비는 0원으로 설정합니다.\n",
        "    print(\"구입금액이 2만원 이상입니다.\")\n",
        "else:  # 그렇지 않고 구입금액이 2만원 이하라면\n",
        "    shipping_cost = 3000  # 배송비는 3000원으로 설정합니다.\n",
        "    print(\"구입금액이 2만원 이하입니다.\")\n",
        "\n",
        "print(f\"회원님의 배송비는 {shipping_cost}원 입니다.\")  # 배송비를 출력합니다."
      ],
      "metadata": {
        "id": "KX-HDtQc0LkF"
      },
      "execution_count": null,
      "outputs": []
    },
    {
      "cell_type": "code",
      "source": [
        "from google.colab import drive\n",
        "drive.mount('/content/drive')"
      ],
      "metadata": {
        "id": "XjEaTeUT43Z6"
      },
      "execution_count": null,
      "outputs": []
    },
    {
      "cell_type": "markdown",
      "source": [
        "print(\"성적을 입력하시오.\")\n",
        "grade = int(input(\"성적입력: \"))  # 사용자로부터 성적을 입력받아 정수로 변환하여 grade 변수에 저장합니다.\n",
        "\n",
        "if grade >= 70:  # 만약 성적이 70점 이상이라면\n",
        "    print(\"70점 이상이므로 합격입니다.\")\n",
        "    print(\"축하합니다. 합격입니다.\")\n",
        "else:  # 그렇지 않고 성적이 70점 미만이라면\n",
        "    print(\"70점 이하이므로 불합격입니다.\")\n",
        "    print(\"아쉽군요. 다시 한번 도전하세요.\")\n",
        "이 코드는 사용자로부터 성적을 입력받고, 입력된 성적에 따라 합격 여부를 판단하여 결과를 출력합니다. 성적이 70점 이상인 경우 \"합격입니다.\"와 축하 메시지를 출력하고, 70점 미만인 경우 \"불합격입니다.\"와 도전 요청 메시지를 출력합니다. 코드를 실행하면 성적과 합격 여부에 대한 메시지가 출력될 것입니다."
      ],
      "metadata": {
        "id": "7wr4rb6i0OX3"
      }
    },
    {
      "cell_type": "code",
      "source": [
        "print(\"성적을 입력하시오.\")\n",
        "grade = int(input(\"성적입력: \"))  # 사용자로부터 성적을 입력받아 정수로 변환하여 grade 변수에 저장합니다.\n",
        "\n",
        "if grade >= 70:  # 만약 성적이 70점 이상이라면\n",
        "    print(\"70점 이상이므로 합격입니다.\")\n",
        "    print(\"축하합니다. 합격입니다.\")\n",
        "else:  # 그렇지 않고 성적이 70점 미만이라면\n",
        "    print(\"70점 이하이므로 불합격입니다.\")\n",
        "    print(\"아쉽군요. 다시 한번 도전하세요.\")"
      ],
      "metadata": {
        "id": "VbFMJ69j08sH"
      },
      "execution_count": null,
      "outputs": []
    },
    {
      "cell_type": "markdown",
      "source": [
        "print(\"근무시간을 입력하십시오.\")\n",
        "work_hour = int(input(\"근무시간입력: \"))  # 사용자로부터 근무시간을 입력받아 정수로 변환하여 work_hour 변수에 저장합니다.\n",
        "\n",
        "if work_hour >= 72:  # 만약 근무시간이 72시간 이상이라면\n",
        "    print(\"♥\" * 66)\n",
        "    print(\"72시간 이상이므로 초과근무입니다.\")\n",
        "else:  # 그렇지 않고 근무시간이 72시간 미만이라면\n",
        "    print(\"근무시간을 초과하였습니다.\")\n",
        "    print(\"72시간 이하이므로 정상근무입니다.\")\n",
        "이 코드는 사용자로부터 근무시간을 입력받고, 입력된 근무시간에 따라 초과근무와 정상근무를 판별하여 결과를 출력합니다. 근무시간이 72시간 이상인 경우 \"♥\"를 66번 출력한 뒤 \"초과근무입니다.\"를 출력합니다. 근무시간이 72시간 미만인 경우 \"근무시간을 초과하였습니다.\"와 \"정상근무입니다.\"를 출력합니다. 코드를 실행하면 근무시간과 초과근무/정상근무 여부에 대한 메시지가 출력될 것입니다."
      ],
      "metadata": {
        "id": "ViJqhrKQ1JeK"
      }
    },
    {
      "cell_type": "code",
      "source": [
        "print(\"근무시간을 입력하십시오.\")\n",
        "work_hour = int(input(\"근무시간입력: \"))  # 사용자로부터 근무시간을 입력받아 정수로 변환하여 work_hour 변수에 저장합니다.\n",
        "\n",
        "if work_hour >= 72:  # 만약 근무시간이 72시간 이상이라면\n",
        "    print(\"♥\" * 66)\n",
        "    print(\"72시간 이상이므로 초과근무입니다.\")\n",
        "else:  # 그렇지 않고 근무시간이 72시간 미만이라면\n",
        "    print(\"근무시간을 초과하였습니다.\")\n",
        "    print(\"72시간 이하이므로 정상근무입니다.\")\n"
      ],
      "metadata": {
        "id": "f6JanR-n1MhQ"
      },
      "execution_count": null,
      "outputs": []
    },
    {
      "cell_type": "markdown",
      "source": [
        "print(\"정수를 입력하시오.\")\n",
        "num = int(input(\"정수 입력: \"))  # 사용자로부터 정수를 입력받아 정수로 변환하여 num 변수에 저장합니다.\n",
        "\n",
        "if (num % 2) != 0:  # 만약 정수를 2로 나눈 나머지가 0이 아니라면\n",
        "    print(f\"입력하신 {num}은 홀수입니다.\")\n",
        "else:  # 그렇지 않고 정수를 2로 나눈 나머지가 0이라면\n",
        "    print(f\"입력하신 {num}은 짝수입니다.\")\n",
        "이 코드는 사용자로부터 정수를 입력받고, 입력된 정수가 홀수인지 짝수인지 판별하여 결과를 출력합니다. 입력된 정수를 2로 나눈 나머지가 0이 아니면 홀수로 판단하고, 그렇지 않으면 짝수로 판단합니다. 코드를 실행하면 입력된 정수와 홀수/짝수 여부에 대한 메시지가 출력될 것입니다."
      ],
      "metadata": {
        "id": "AVHytDbD1cEH"
      }
    },
    {
      "cell_type": "code",
      "source": [
        "print(\"정수를 입력하시오.\")\n",
        "num = int(input(\"정수 입력: \"))  # 사용자로부터 정수를 입력받아 정수로 변환하여 num 변수에 저장합니다.\n",
        "\n",
        "if (num % 2) != 0:  # 만약 정수를 2로 나눈 나머지가 0이 아니라면\n",
        "    print(f\"입력하신 {num}은 홀수입니다.\")\n",
        "else:  # 그렇지 않고 정수를 2로 나눈 나머지가 0이라면\n",
        "    print(f\"입력하신 {num}은 짝수입니다.\")"
      ],
      "metadata": {
        "id": "SYvliEmB1ebO"
      },
      "execution_count": null,
      "outputs": []
    },
    {
      "cell_type": "markdown",
      "source": [
        "print(\"이름과 나이를 입력하시오.\")\n",
        "name = input(\"이름입력: \")  # 사용자로부터 이름을 입력받아 name 변수에 저장합니다.\n",
        "age = int(input(\"나이입력: \"))  # 사용자로부터 나이를 입력받아 정수로 변환하여 age 변수에 저장합니다.\n",
        "\n",
        "print(\"성명:\", name)\n",
        "print(\"나이:\", age)\n",
        "\n",
        "if age <= 20:  # 만약 나이가 20살 이하라면\n",
        "    print(\"프로그래밍을 배우는 최적의 나이입니다.\")\n",
        "else:  # 그렇지 않고 나이가 20살 이상이라면\n",
        "    print(\"아직도 늦지 않았습니다.\")\n",
        "이 코드는 사용자로부터 이름과 나이를 입력받고, 입력된 나이에 따라 출력 내용을 다르게 합니다. 입력된 이름과 나이를 출력한 뒤, 나이가 20살 이하이면 \"프로그래밍을 배우는 최적의 나이입니다.\"라고 출력하고, 나이가 20살 이상이면 \"아직도 늦지 않았습니다.\"라고 출력합니다. 코드를 실행하면 입력된 이름과 나이, 그리고 해당 나이에 따른 메시지가 출력될 것입니다."
      ],
      "metadata": {
        "id": "qRdKNhk51jZ9"
      }
    },
    {
      "cell_type": "code",
      "source": [
        "print(\"이름과 나이를 입력하시오.\")\n",
        "name = input(\"이름입력: \")  # 사용자로부터 이름을 입력받아 name 변수에 저장합니다.\n",
        "age = int(input(\"나이입력: \"))  # 사용자로부터 나이를 입력받아 정수로 변환하여 age 변수에 저장합니다.\n",
        "\n",
        "print(\"성명:\", name)\n",
        "print(\"나이:\", age)\n",
        "\n",
        "if age <= 20:  # 만약 나이가 20살 이하라면\n",
        "    print(\"프로그래밍을 배우는 최적의 나이입니다.\")\n",
        "else:  # 그렇지 않고 나이가 20살 이상이라면\n",
        "    print(\"아직도 늦지 않았습니다.\")"
      ],
      "metadata": {
        "id": "0CRq1b3x1sLY"
      },
      "execution_count": null,
      "outputs": []
    },
    {
      "cell_type": "markdown",
      "source": [
        "print(\"정수 2개를 입력하시오.\")\n",
        "x = int(input(\"x의 값을 입력하시오: \"))  # 사용자로부터 x의 값을 입력받아 정수로 변환하여 x 변수에 저장합니다.\n",
        "y = int(input(\"y의 값을 입력하시오: \"))  # 사용자로부터 y의 값을 입력받아 정수로 변환하여 y 변수에 저장합니다.\n",
        "\n",
        "sum = x + y  # x와 y의 합을 sum 변수에 저장합니다.\n",
        "print(\"x + y의 합계는\", sum, \"입니다.\")\n",
        "이 코드는 사용자로부터 x와 y의 값을 입력받고, 입력된 정수를 합하여 합계를 출력합니다. x와 y의 값을 입력받은 뒤, 두 값을 더하여 sum 변수에 저장합니다. 그리고 \"x + y의 합계는\"과 함께 sum 변수의 값을 출력합니다. 코드를 실행하면 입력된 정수들의 합계가 출력될 것입니다."
      ],
      "metadata": {
        "id": "2xNONqgg16PV"
      }
    },
    {
      "cell_type": "code",
      "source": [
        "print(\"정수 2개를 입력하시오.\")\n",
        "x = int(input(\"x의 값을 입력하시오: \"))  # 사용자로부터 x의 값을 입력받아 정수로 변환하여 x 변수에 저장합니다.\n",
        "y = int(input(\"y의 값을 입력하시오: \"))  # 사용자로부터 y의 값을 입력받아 정수로 변환하여 y 변수에 저장합니다.\n",
        "\n",
        "sum = x + y  # x와 y의 합을 sum 변수에 저장합니다.\n",
        "print(\"x + y의 합계는\", sum, \"입니다.\")"
      ],
      "metadata": {
        "id": "1Ws9ivxY16_b"
      },
      "execution_count": null,
      "outputs": []
    },
    {
      "cell_type": "markdown",
      "source": [
        "print(\"상품의 가격을 입력하시오.\")\n",
        "price = int(input(\"가격을 입력하시오: \"))  # 사용자로부터 가격을 입력받아 정수로 변환하여 price 변수에 저장합니다.\n",
        "\n",
        "vat = price * 0.1  # 가격에 0.1을 곱하여 부가세를 계산하여 vat 변수에 저장합니다.\n",
        "print(\"해당 상품의 가격은\", vat, \"입니다.\")\n",
        "이 코드는 사용자로부터 상품의 가격을 입력받고, 입력된 가격에 0.1을 곱하여 부가세를 계산합니다. 부가세를 계산한 뒤 \"해당 상품의 가격은\"과 함께 부가세의 값을 출력합니다. 코드를 실행하면 입력된 가격에 대한 부가세가 출력될 것입니다."
      ],
      "metadata": {
        "id": "3am5TU2y19qR"
      }
    },
    {
      "cell_type": "code",
      "source": [
        "print(\"상품의 가격을 입력하시오.\")\n",
        "price = int(input(\"가격을 입력하시오: \"))  # 사용자로부터 가격을 입력받아 정수로 변환하여 price 변수에 저장합니다.\n",
        "\n",
        "vat = price * 0.1  # 가격에 0.1을 곱하여 부가세를 계산하여 vat 변수에 저장합니다.\n",
        "print(\"해당 상품의 가격은\", vat, \"입니다.\")"
      ],
      "metadata": {
        "id": "kErMS4AD2G2C"
      },
      "execution_count": null,
      "outputs": []
    },
    {
      "cell_type": "markdown",
      "source": [
        "price = int(input(\"구입금액 입력: \"))  # 사용자로부터 구입금액을 입력받아 정수로 변환하여 price 변수에 저장합니다.\n",
        "\n",
        "if price >= 100000:  # 만약 구입금액이 10만원 이상이라면\n",
        "    shipping_cost = 0  # 배송료(shipping_cost)는 0원입니다.\n",
        "else:  # 그렇지 않고\n",
        "    if price >= 20000:  # 구입금액이 2만원 이상이라면\n",
        "        shipping_cost = 3000  # 배송료(shipping_cost)는 3000원입니다.\n",
        "    else:  # 그것도 아니라면\n",
        "        shipping_cost = 5000  # 배송료(shipping_cost)는 5000원입니다.\n",
        "\n",
        "print(f\"배송료는 {shipping_cost}원 입니다.\")  # F-string을 사용하여 배송료를 출력합니다.\n",
        "이 코드는 사용자로부터 구입금액을 입력받고, 입력된 금액에 따라 배송료를 처리합니다. 구입금액이 10만원 이상이면 배송료는 0원이고, 2만원 이상인 경우는 배송료가 3000원이며, 2만원 미만인 경우는 배송료가 5000원입니다. 코드를 실행하면 입력된 구입금액에 따른 배송료가 출력될 것입니다."
      ],
      "metadata": {
        "id": "yE9SRwYM2Skg"
      }
    },
    {
      "cell_type": "code",
      "source": [
        "price = int(input(\"구입금액 입력: \"))  # 사용자로부터 구입금액을 입력받아 정수로 변환하여 price 변수에 저장합니다.\n",
        "\n",
        "if price >= 100000:  # 만약 구입금액이 10만원 이상이라면\n",
        "    shipping_cost = 0  # 배송료(shipping_cost)는 0원입니다.\n",
        "else:  # 그렇지 않고\n",
        "    if price >= 20000:  # 구입금액이 2만원 이상이라면\n",
        "        shipping_cost = 3000  # 배송료(shipping_cost)는 3000원입니다.\n",
        "    else:  # 그것도 아니라면\n",
        "        shipping_cost = 5000  # 배송료(shipping_cost)는 5000원입니다.\n",
        "\n",
        "print(f\"배송료는 {shipping_cost}원 입니다.\")  # F-string을 사용하여 배송료를 출력합니다."
      ],
      "metadata": {
        "id": "rMylIGU82VwO"
      },
      "execution_count": null,
      "outputs": []
    },
    {
      "cell_type": "markdown",
      "source": [
        "for _ in range(5):  # 5번 반복\n",
        "    print(\"환영합니다.\")\n",
        "이 코드는 for 반복문을 사용하여 \"환영합니다.\"를 5번 출력합니다. range(5)는 0부터 4까지의 숫자 범위를 나타냅니다. _는 반복 횟수를 나타내는 변수이지만, 사용하지 않는 변수일 때 관례적으로 _를 사용합니다. print(\"환영합니다.\")는 \"환영합니다.\"를 출력하는 역할을 합니다. 코드를 실행하면 \"환영합니다.\"가 5번 출력될 것입니다.\n",
        "\n",
        "만약 \"환영합니다.\"를 10번이나 30번 출력하고 싶다면, range(5)를 range(10) 또는 range(30)으로 변경하면 됩니다."
      ],
      "metadata": {
        "id": "1k5pIo0d2mXn"
      }
    },
    {
      "cell_type": "code",
      "source": [
        "for _ in range(5):  # 5번 반복\n",
        "    print(\"환영합니다.\")"
      ],
      "metadata": {
        "id": "GkfxQMmM2oOu"
      },
      "execution_count": null,
      "outputs": []
    },
    {
      "cell_type": "markdown",
      "source": [
        "count = 1  # 초기값으로 count 변수를 1로 설정합니다.\n",
        "\n",
        "while count <= 5:  # count가 5보다 작거나 같을 때까지 반복합니다.\n",
        "    print(\"(\", count, \")\", \"환영합니다.\")\n",
        "    count = count + 1  # count를 1씩 증가시킵니다.\n",
        "이 코드는 count 변수를 초기값 1로 설정한 후, while 반복문을 사용하여 count가 5보다 작거나 같을 때까지 반복합니다. 반복할 때마다 \"(\", count, \")\", \"환영합니다.\"를 출력하고, count를 1씩 증가시킵니다. 코드를 실행하면 \"환영합니다.\"가 5번 출력될 것입니다."
      ],
      "metadata": {
        "id": "flrJQVnt2pB-"
      }
    },
    {
      "cell_type": "code",
      "source": [
        "count = 1  # 초기값으로 count 변수를 1로 설정합니다.\n",
        "\n",
        "while count <= 5:  # count가 5보다 작거나 같을 때까지 반복합니다.\n",
        "    print(\"(\", count, \")\", \"환영합니다.\")\n",
        "    count = count + 1  # count를 1씩 증가시킵니다."
      ],
      "metadata": {
        "id": "mJj-gWdu2y_T"
      },
      "execution_count": null,
      "outputs": []
    },
    {
      "cell_type": "markdown",
      "source": [
        "x = 0  # 초기값으로 x 변수를 0으로 설정합니다.\n",
        "\n",
        "while x < 10:  # x가 10보다 작을 때까지 반복합니다.\n",
        "    print(x, end=' ')  # x를 출력하고 공백으로 구분합니다.\n",
        "    x = x + 1  # x를 1씩 증가시킵니다.\n",
        "이 코드는 x 변수를 초기값 0으로 설정한 후, while 반복문을 사용하여 x가 10보다 작을 때까지 반복합니다. 반복할 때마다 x를 출력하고 공백으로 구분한 후, x를 1씩 증가시킵니다. 코드를 실행하면 0부터 9까지 순서대로 출력될 것입니다."
      ],
      "metadata": {
        "id": "G5Eub_9Z206n"
      }
    },
    {
      "cell_type": "code",
      "source": [
        "x = 0  # 초기값으로 x 변수를 0으로 설정합니다.\n",
        "\n",
        "while x < 10:  # x가 10보다 작을 때까지 반복합니다.\n",
        "    print(x, end=' ')  # x를 출력하고 공백으로 구분합니다.\n",
        "    x = x + 1  # x를 1씩 증가시킵니다."
      ],
      "metadata": {
        "id": "de6gfrH027xW"
      },
      "execution_count": null,
      "outputs": []
    },
    {
      "cell_type": "markdown",
      "source": [
        "x = 1  # 초기값으로 x 변수를 1로 설정합니다.\n",
        "total = 0  # 초기값으로 total 변수를 0으로 설정합니다.\n",
        "\n",
        "while x <= 10:  # x가 10보다 작거나 같을 때까지 반복합니다.\n",
        "    total = total + x  # total에 x를 더합니다.\n",
        "    x += 1  # x를 1씩 증가시킵니다.\n",
        "\n",
        "print(total)  # total을 출력합니다.\n",
        "이 코드는 x 변수를 초기값 1로 설정하고, total 변수를 초기값 0으로 설정한 후, while 반복문을 사용하여 x가 10보다 작거나 같을 때까지 반복합니다. 반복할 때마다 total에 x 값을 더하고, x를 1씩 증가시킵니다. 반복이 끝난 후에는 total 값을 출력합니다. 코드를 실행하면 1부터 10까지의 합이 출력될 것입니다."
      ],
      "metadata": {
        "id": "wDqt1DKC29pj"
      }
    },
    {
      "cell_type": "code",
      "source": [
        "x = 1  # 초기값으로 x 변수를 1로 설정합니다.\n",
        "total = 0  # 초기값으로 total 변수를 0으로 설정합니다.\n",
        "\n",
        "while x <= 10:  # x가 10보다 작거나 같을 때까지 반복합니다.\n",
        "    total = total + x  # total에 x를 더합니다.\n",
        "    x += 1  # x를 1씩 증가시킵니다.\n",
        "\n",
        "print(total)  # total을 출력합니다."
      ],
      "metadata": {
        "id": "_sarpaZu3D8F"
      },
      "execution_count": null,
      "outputs": []
    },
    {
      "cell_type": "markdown",
      "source": [
        "for num in range(1, 20):  # 1부터 19까지의 범위에서 반복합니다.\n",
        "    if num % 3 == 0:  # 숫자를 3으로 나눈 나머지가 0인지 확인합니다.\n",
        "        print(\"박수\", end=' ')  # 3의 배수일 경우 \"박수\"를 출력합니다.\n",
        "    else:\n",
        "        print(num, end=' ')  # 3의 배수가 아닐 경우 숫자를 출력합니다.\n",
        "위 코드에서 각 주석은 아래와 같은 역할을 합니다:\n",
        "\n",
        "for 문의 범위를 설명하는 주석입니다.\n",
        "if 문에서 숫자를 3으로 나눈 나머지가 0인지 확인하는 주석입니다.\n",
        "3의 배수일 경우 \"박수\"를 출력하는 주석입니다.\n",
        "3의 배수가 아닐 경우 숫자를 출력하는 주석입니다.\n",
        "이렇게 주석을 추가하면 코드의 의도와 기능을 더욱 명확하게 설명할 수 있습니다. 주석은 코드를 이해하는 데 도움을 주고, 가독성을 높이는 역할을 합니다."
      ],
      "metadata": {
        "id": "gbdAdJHu3F6c"
      }
    },
    {
      "cell_type": "code",
      "source": [
        "for num in range(1, 20):  # 1부터 19까지의 범위에서 반복합니다.\n",
        "    if num % 3 == 0:  # 숫자를 3으로 나눈 나머지가 0인지 확인합니다.\n",
        "        print(\"박수\", end=' ')  # 3의 배수일 경우 \"박수\"를 출력합니다.\n",
        "    else:\n",
        "        print(num, end=' ')  # 3의 배수가 아닐 경우 숫자를 출력합니다."
      ],
      "metadata": {
        "id": "QtQBRCfy3gGh"
      },
      "execution_count": null,
      "outputs": []
    }
  ]
}